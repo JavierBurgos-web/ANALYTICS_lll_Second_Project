{
 "cells": [
  {
   "cell_type": "markdown",
   "metadata": {},
   "source": [
    "Librerias"
   ]
  },
  {
   "cell_type": "code",
   "execution_count": 1,
   "metadata": {},
   "outputs": [],
   "source": [
    "import pandas as pd\n",
    "import numpy as np\n",
    "import matplotlib.pyplot as plt\n",
    "import seaborn as sns"
   ]
  },
  {
   "cell_type": "markdown",
   "metadata": {},
   "source": [
    "Datos"
   ]
  },
  {
   "cell_type": "code",
   "execution_count": 3,
   "metadata": {},
   "outputs": [],
   "source": [
    "expuestos = pd.read_csv('https://raw.githubusercontent.com/JavierBurgos-web/Alll_Proyecto_Finanzas/main/2_data/BD_Expuestos.txt', sep='\\t', encoding='latin-1')\n",
    "sociodemograficos = pd.read_csv('https://raw.githubusercontent.com/JavierBurgos-web/Alll_Proyecto_Finanzas/main/2_data/BD_Sociodemograficas.txt', sep='\\t', encoding='latin-1')\n",
    "siniestros = pd.read_csv('https://media.githubusercontent.com/media/JavierBurgos-web/Alll_Proyecto_Finanzas/main/2_data/DB_Siniestros.txt', sep=',', encoding='latin-1')"
   ]
  },
  {
   "cell_type": "markdown",
   "metadata": {},
   "source": [
    "#### **1. LECTURA GLOBAL**"
   ]
  },
  {
   "cell_type": "markdown",
   "metadata": {},
   "source": [
    "##### **1.1. BD EXPUESTOS**"
   ]
  },
  {
   "cell_type": "code",
   "execution_count": 4,
   "metadata": {},
   "outputs": [
    {
     "name": "stdout",
     "output_type": "stream",
     "text": [
      "La base de datos contiene 300900 observaciones y 5 variables\n"
     ]
    }
   ],
   "source": [
    "print(f\"La base de datos contiene {expuestos.shape[0]} observaciones y {expuestos.shape[1]} variables\")"
   ]
  },
  {
   "cell_type": "code",
   "execution_count": 5,
   "metadata": {},
   "outputs": [
    {
     "name": "stdout",
     "output_type": "stream",
     "text": [
      "La base de datos tiene 148937 observaciones vacias\n"
     ]
    }
   ],
   "source": [
    "print(f\"La base de datos tiene {expuestos.isnull().sum().sum()} observaciones vacias\")"
   ]
  },
  {
   "cell_type": "code",
   "execution_count": 6,
   "metadata": {},
   "outputs": [
    {
     "name": "stdout",
     "output_type": "stream",
     "text": [
      "Las observaciones vacias se presentan en las siguientes variables:\n"
     ]
    },
    {
     "data": {
      "text/plain": [
       "Asegurado_Id                0\n",
       "Poliza_Asegurado_Id         0\n",
       "FECHA_INICIO                0\n",
       "FECHA_CANCELACION      148937\n",
       "FECHA_FIN                   0\n",
       "dtype: int64"
      ]
     },
     "metadata": {},
     "output_type": "display_data"
    }
   ],
   "source": [
    "print('Las observaciones vacias se presentan en las siguientes variables:')\n",
    "display(expuestos.isnull().sum())"
   ]
  },
  {
   "cell_type": "code",
   "execution_count": 7,
   "metadata": {},
   "outputs": [
    {
     "name": "stdout",
     "output_type": "stream",
     "text": [
      "La base de datos tiene 0 registros duplicados\n"
     ]
    }
   ],
   "source": [
    "print(f\"La base de datos tiene {expuestos.duplicated().sum()} registros duplicados\")"
   ]
  },
  {
   "cell_type": "markdown",
   "metadata": {},
   "source": [
    "##### </br>**1.2. BD SOCIODEMOGRAFICOS**"
   ]
  },
  {
   "cell_type": "code",
   "execution_count": 8,
   "metadata": {},
   "outputs": [
    {
     "name": "stdout",
     "output_type": "stream",
     "text": [
      "La base de datos contiene 267312 observaciones y 9 variables\n"
     ]
    }
   ],
   "source": [
    "print(f\"La base de datos contiene {sociodemograficos.shape[0]} observaciones y {sociodemograficos.shape[1]} variables\")"
   ]
  },
  {
   "cell_type": "code",
   "execution_count": 9,
   "metadata": {},
   "outputs": [
    {
     "name": "stdout",
     "output_type": "stream",
     "text": [
      "La base de datos tiene 1 observaciones vacias\n"
     ]
    }
   ],
   "source": [
    "print(f\"La base de datos tiene {sociodemograficos.isnull().sum().sum()} observaciones vacias\")"
   ]
  },
  {
   "cell_type": "code",
   "execution_count": 10,
   "metadata": {},
   "outputs": [
    {
     "name": "stdout",
     "output_type": "stream",
     "text": [
      "Las observaciones vacias se presentan en las siguientes variables:\n"
     ]
    },
    {
     "data": {
      "text/plain": [
       "Asegurado_Id          0\n",
       "Mujer                 0\n",
       "FechaNacimiento       0\n",
       "Ciudad                1\n",
       "CANCER                0\n",
       "EPOC                  0\n",
       "DIABETES              0\n",
       "HIPERTENSION          0\n",
       "ENF_CARDIOVASCULAR    0\n",
       "dtype: int64"
      ]
     },
     "metadata": {},
     "output_type": "display_data"
    }
   ],
   "source": [
    "print('Las observaciones vacias se presentan en las siguientes variables:')\n",
    "display(sociodemograficos.isnull().sum())"
   ]
  },
  {
   "cell_type": "code",
   "execution_count": 11,
   "metadata": {},
   "outputs": [
    {
     "name": "stdout",
     "output_type": "stream",
     "text": [
      "La base de datos tiene 0 registros duplicados\n"
     ]
    }
   ],
   "source": [
    "print(f\"La base de datos tiene {sociodemograficos.duplicated().sum()} registros duplicados\")"
   ]
  },
  {
   "cell_type": "markdown",
   "metadata": {},
   "source": [
    "##### </br>**1.3. BD SINIESTROS**"
   ]
  },
  {
   "cell_type": "code",
   "execution_count": 12,
   "metadata": {},
   "outputs": [
    {
     "name": "stdout",
     "output_type": "stream",
     "text": [
      "La base de datos contiene 3308480 observaciones y 7 variables\n"
     ]
    }
   ],
   "source": [
    "print(f\"La base de datos contiene {siniestros.shape[0]} observaciones y {siniestros.shape[1]} variables\")"
   ]
  },
  {
   "cell_type": "code",
   "execution_count": 13,
   "metadata": {},
   "outputs": [
    {
     "name": "stdout",
     "output_type": "stream",
     "text": [
      "La base de datos tiene 0 observaciones vacias\n"
     ]
    }
   ],
   "source": [
    "print(f\"La base de datos tiene {siniestros.isnull().sum().sum()} observaciones vacias\")"
   ]
  },
  {
   "cell_type": "code",
   "execution_count": 14,
   "metadata": {},
   "outputs": [
    {
     "name": "stdout",
     "output_type": "stream",
     "text": [
      "La base de datos tiene 0 registros duplicados\n"
     ]
    }
   ],
   "source": [
    "print(f\"La base de datos tiene {siniestros.duplicated().sum()} registros duplicados\")"
   ]
  },
  {
   "cell_type": "markdown",
   "metadata": {},
   "source": [
    "#### </br> **2. CONTEXTO DE LOS DATOS**"
   ]
  },
  {
   "cell_type": "markdown",
   "metadata": {},
   "source": [
    "##### **2.1. BD EXPUESTOS**"
   ]
  },
  {
   "cell_type": "code",
   "execution_count": 15,
   "metadata": {},
   "outputs": [
    {
     "name": "stdout",
     "output_type": "stream",
     "text": [
      "<class 'pandas.core.frame.DataFrame'>\n",
      "RangeIndex: 300900 entries, 0 to 300899\n",
      "Data columns (total 5 columns):\n",
      " #   Column               Non-Null Count   Dtype \n",
      "---  ------               --------------   ----- \n",
      " 0   Asegurado_Id         300900 non-null  int64 \n",
      " 1   Poliza_Asegurado_Id  300900 non-null  int64 \n",
      " 2   FECHA_INICIO         300900 non-null  object\n",
      " 3   FECHA_CANCELACION    151963 non-null  object\n",
      " 4   FECHA_FIN            300900 non-null  object\n",
      "dtypes: int64(2), object(3)\n",
      "memory usage: 11.5+ MB\n"
     ]
    },
    {
     "data": {
      "text/plain": [
       "None"
      ]
     },
     "metadata": {},
     "output_type": "display_data"
    },
    {
     "name": "stdout",
     "output_type": "stream",
     "text": [
      "\n",
      "Los registros se agrupan en los siguientes tipos:\n"
     ]
    },
    {
     "data": {
      "text/plain": [
       "object    3\n",
       "int64     2\n",
       "Name: count, dtype: int64"
      ]
     },
     "execution_count": 15,
     "metadata": {},
     "output_type": "execute_result"
    }
   ],
   "source": [
    "display(expuestos.info())\n",
    "print('\\nLos registros se agrupan en los siguientes tipos:')\n",
    "expuestos.dtypes.value_counts()"
   ]
  },
  {
   "cell_type": "code",
   "execution_count": 16,
   "metadata": {},
   "outputs": [
    {
     "data": {
      "text/html": [
       "<div>\n",
       "<style scoped>\n",
       "    .dataframe tbody tr th:only-of-type {\n",
       "        vertical-align: middle;\n",
       "    }\n",
       "\n",
       "    .dataframe tbody tr th {\n",
       "        vertical-align: top;\n",
       "    }\n",
       "\n",
       "    .dataframe thead th {\n",
       "        text-align: right;\n",
       "    }\n",
       "</style>\n",
       "<table border=\"1\" class=\"dataframe\">\n",
       "  <thead>\n",
       "    <tr style=\"text-align: right;\">\n",
       "      <th></th>\n",
       "      <th>count</th>\n",
       "      <th>unique</th>\n",
       "      <th>top</th>\n",
       "      <th>freq</th>\n",
       "    </tr>\n",
       "  </thead>\n",
       "  <tbody>\n",
       "    <tr>\n",
       "      <th>FECHA_INICIO</th>\n",
       "      <td>300900</td>\n",
       "      <td>730</td>\n",
       "      <td>2018/01/01</td>\n",
       "      <td>191371</td>\n",
       "    </tr>\n",
       "    <tr>\n",
       "      <th>FECHA_CANCELACION</th>\n",
       "      <td>151963</td>\n",
       "      <td>730</td>\n",
       "      <td>2019/12/31</td>\n",
       "      <td>68216</td>\n",
       "    </tr>\n",
       "    <tr>\n",
       "      <th>FECHA_FIN</th>\n",
       "      <td>300900</td>\n",
       "      <td>730</td>\n",
       "      <td>2019/12/31</td>\n",
       "      <td>217005</td>\n",
       "    </tr>\n",
       "  </tbody>\n",
       "</table>\n",
       "</div>"
      ],
      "text/plain": [
       "                    count unique         top    freq\n",
       "FECHA_INICIO       300900    730  2018/01/01  191371\n",
       "FECHA_CANCELACION  151963    730  2019/12/31   68216\n",
       "FECHA_FIN          300900    730  2019/12/31  217005"
      ]
     },
     "execution_count": 16,
     "metadata": {},
     "output_type": "execute_result"
    }
   ],
   "source": [
    "expuestos.select_dtypes(include='object').describe().T"
   ]
  },
  {
   "cell_type": "markdown",
   "metadata": {},
   "source": [
    "##### </br>**2.2. BD SOCIODEMOGRAFICOS**"
   ]
  },
  {
   "cell_type": "code",
   "execution_count": 17,
   "metadata": {},
   "outputs": [
    {
     "name": "stdout",
     "output_type": "stream",
     "text": [
      "<class 'pandas.core.frame.DataFrame'>\n",
      "RangeIndex: 267312 entries, 0 to 267311\n",
      "Data columns (total 9 columns):\n",
      " #   Column              Non-Null Count   Dtype \n",
      "---  ------              --------------   ----- \n",
      " 0   Asegurado_Id        267312 non-null  int64 \n",
      " 1   Mujer               267312 non-null  int64 \n",
      " 2   FechaNacimiento     267312 non-null  object\n",
      " 3   Ciudad              267311 non-null  object\n",
      " 4   CANCER              267312 non-null  int64 \n",
      " 5   EPOC                267312 non-null  int64 \n",
      " 6   DIABETES            267312 non-null  int64 \n",
      " 7   HIPERTENSION        267312 non-null  int64 \n",
      " 8   ENF_CARDIOVASCULAR  267312 non-null  int64 \n",
      "dtypes: int64(7), object(2)\n",
      "memory usage: 18.4+ MB\n"
     ]
    },
    {
     "data": {
      "text/plain": [
       "None"
      ]
     },
     "metadata": {},
     "output_type": "display_data"
    },
    {
     "name": "stdout",
     "output_type": "stream",
     "text": [
      "\n",
      "Los registros se agrupan en los siguientes tipos:\n"
     ]
    },
    {
     "data": {
      "text/plain": [
       "int64     7\n",
       "object    2\n",
       "Name: count, dtype: int64"
      ]
     },
     "execution_count": 17,
     "metadata": {},
     "output_type": "execute_result"
    }
   ],
   "source": [
    "display(sociodemograficos.info())\n",
    "print('\\nLos registros se agrupan en los siguientes tipos:')\n",
    "sociodemograficos.dtypes.value_counts()"
   ]
  },
  {
   "cell_type": "code",
   "execution_count": 18,
   "metadata": {},
   "outputs": [
    {
     "data": {
      "text/html": [
       "<div>\n",
       "<style scoped>\n",
       "    .dataframe tbody tr th:only-of-type {\n",
       "        vertical-align: middle;\n",
       "    }\n",
       "\n",
       "    .dataframe tbody tr th {\n",
       "        vertical-align: top;\n",
       "    }\n",
       "\n",
       "    .dataframe thead th {\n",
       "        text-align: right;\n",
       "    }\n",
       "</style>\n",
       "<table border=\"1\" class=\"dataframe\">\n",
       "  <thead>\n",
       "    <tr style=\"text-align: right;\">\n",
       "      <th></th>\n",
       "      <th>count</th>\n",
       "      <th>unique</th>\n",
       "      <th>top</th>\n",
       "      <th>freq</th>\n",
       "    </tr>\n",
       "  </thead>\n",
       "  <tbody>\n",
       "    <tr>\n",
       "      <th>FechaNacimiento</th>\n",
       "      <td>267312</td>\n",
       "      <td>29945</td>\n",
       "      <td>25/01/1985</td>\n",
       "      <td>42</td>\n",
       "    </tr>\n",
       "    <tr>\n",
       "      <th>Ciudad</th>\n",
       "      <td>267311</td>\n",
       "      <td>6</td>\n",
       "      <td>Cali</td>\n",
       "      <td>127149</td>\n",
       "    </tr>\n",
       "  </tbody>\n",
       "</table>\n",
       "</div>"
      ],
      "text/plain": [
       "                  count unique         top    freq\n",
       "FechaNacimiento  267312  29945  25/01/1985      42\n",
       "Ciudad           267311      6        Cali  127149"
      ]
     },
     "execution_count": 18,
     "metadata": {},
     "output_type": "execute_result"
    }
   ],
   "source": [
    "sociodemograficos.select_dtypes(include='object').describe().T"
   ]
  },
  {
   "cell_type": "code",
   "execution_count": 19,
   "metadata": {},
   "outputs": [
    {
     "data": {
      "text/html": [
       "<div>\n",
       "<style scoped>\n",
       "    .dataframe tbody tr th:only-of-type {\n",
       "        vertical-align: middle;\n",
       "    }\n",
       "\n",
       "    .dataframe tbody tr th {\n",
       "        vertical-align: top;\n",
       "    }\n",
       "\n",
       "    .dataframe thead th {\n",
       "        text-align: right;\n",
       "    }\n",
       "</style>\n",
       "<table border=\"1\" class=\"dataframe\">\n",
       "  <thead>\n",
       "    <tr style=\"text-align: right;\">\n",
       "      <th></th>\n",
       "      <th>count</th>\n",
       "      <th>mean</th>\n",
       "      <th>std</th>\n",
       "      <th>min</th>\n",
       "      <th>25%</th>\n",
       "      <th>50%</th>\n",
       "      <th>75%</th>\n",
       "      <th>max</th>\n",
       "    </tr>\n",
       "  </thead>\n",
       "  <tbody>\n",
       "    <tr>\n",
       "      <th>Asegurado_Id</th>\n",
       "      <td>267312.0</td>\n",
       "      <td>2.491157e+07</td>\n",
       "      <td>1.639717e+07</td>\n",
       "      <td>738284.0</td>\n",
       "      <td>9295646.5</td>\n",
       "      <td>24447192.0</td>\n",
       "      <td>38855063.0</td>\n",
       "      <td>58584620.0</td>\n",
       "    </tr>\n",
       "    <tr>\n",
       "      <th>Mujer</th>\n",
       "      <td>267312.0</td>\n",
       "      <td>5.440272e-01</td>\n",
       "      <td>4.980963e-01</td>\n",
       "      <td>-1.0</td>\n",
       "      <td>0.0</td>\n",
       "      <td>1.0</td>\n",
       "      <td>1.0</td>\n",
       "      <td>1.0</td>\n",
       "    </tr>\n",
       "    <tr>\n",
       "      <th>CANCER</th>\n",
       "      <td>267312.0</td>\n",
       "      <td>3.460376e-03</td>\n",
       "      <td>5.872320e-02</td>\n",
       "      <td>0.0</td>\n",
       "      <td>0.0</td>\n",
       "      <td>0.0</td>\n",
       "      <td>0.0</td>\n",
       "      <td>1.0</td>\n",
       "    </tr>\n",
       "    <tr>\n",
       "      <th>EPOC</th>\n",
       "      <td>267312.0</td>\n",
       "      <td>1.639657e-02</td>\n",
       "      <td>1.269952e-01</td>\n",
       "      <td>0.0</td>\n",
       "      <td>0.0</td>\n",
       "      <td>0.0</td>\n",
       "      <td>0.0</td>\n",
       "      <td>1.0</td>\n",
       "    </tr>\n",
       "    <tr>\n",
       "      <th>DIABETES</th>\n",
       "      <td>267312.0</td>\n",
       "      <td>6.264590e-02</td>\n",
       "      <td>2.423254e-01</td>\n",
       "      <td>0.0</td>\n",
       "      <td>0.0</td>\n",
       "      <td>0.0</td>\n",
       "      <td>0.0</td>\n",
       "      <td>1.0</td>\n",
       "    </tr>\n",
       "    <tr>\n",
       "      <th>HIPERTENSION</th>\n",
       "      <td>267312.0</td>\n",
       "      <td>1.323547e-02</td>\n",
       "      <td>1.142819e-01</td>\n",
       "      <td>0.0</td>\n",
       "      <td>0.0</td>\n",
       "      <td>0.0</td>\n",
       "      <td>0.0</td>\n",
       "      <td>1.0</td>\n",
       "    </tr>\n",
       "    <tr>\n",
       "      <th>ENF_CARDIOVASCULAR</th>\n",
       "      <td>267312.0</td>\n",
       "      <td>4.702370e-03</td>\n",
       "      <td>6.841254e-02</td>\n",
       "      <td>0.0</td>\n",
       "      <td>0.0</td>\n",
       "      <td>0.0</td>\n",
       "      <td>0.0</td>\n",
       "      <td>1.0</td>\n",
       "    </tr>\n",
       "  </tbody>\n",
       "</table>\n",
       "</div>"
      ],
      "text/plain": [
       "                       count          mean           std       min        25%  \\\n",
       "Asegurado_Id        267312.0  2.491157e+07  1.639717e+07  738284.0  9295646.5   \n",
       "Mujer               267312.0  5.440272e-01  4.980963e-01      -1.0        0.0   \n",
       "CANCER              267312.0  3.460376e-03  5.872320e-02       0.0        0.0   \n",
       "EPOC                267312.0  1.639657e-02  1.269952e-01       0.0        0.0   \n",
       "DIABETES            267312.0  6.264590e-02  2.423254e-01       0.0        0.0   \n",
       "HIPERTENSION        267312.0  1.323547e-02  1.142819e-01       0.0        0.0   \n",
       "ENF_CARDIOVASCULAR  267312.0  4.702370e-03  6.841254e-02       0.0        0.0   \n",
       "\n",
       "                           50%         75%         max  \n",
       "Asegurado_Id        24447192.0  38855063.0  58584620.0  \n",
       "Mujer                      1.0         1.0         1.0  \n",
       "CANCER                     0.0         0.0         1.0  \n",
       "EPOC                       0.0         0.0         1.0  \n",
       "DIABETES                   0.0         0.0         1.0  \n",
       "HIPERTENSION               0.0         0.0         1.0  \n",
       "ENF_CARDIOVASCULAR         0.0         0.0         1.0  "
      ]
     },
     "execution_count": 19,
     "metadata": {},
     "output_type": "execute_result"
    }
   ],
   "source": [
    "sociodemograficos.select_dtypes(include='int64').describe().T"
   ]
  },
  {
   "cell_type": "code",
   "execution_count": 20,
   "metadata": {},
   "outputs": [
    {
     "name": "stdout",
     "output_type": "stream",
     "text": [
      "La base contiene registros de 267233 usuarios\n"
     ]
    }
   ],
   "source": [
    "print(f\"La base contiene registros de {sociodemograficos.Asegurado_Id.nunique()} usuarios\")"
   ]
  },
  {
   "cell_type": "code",
   "execution_count": 21,
   "metadata": {},
   "outputs": [
    {
     "name": "stdout",
     "output_type": "stream",
     "text": [
      "La base contiene información de con 6 ciudades\n"
     ]
    }
   ],
   "source": [
    "print(f\"La base contiene información de con {sociodemograficos.Ciudad.nunique()} ciudades\")"
   ]
  },
  {
   "cell_type": "code",
   "execution_count": 22,
   "metadata": {},
   "outputs": [
    {
     "name": "stdout",
     "output_type": "stream",
     "text": [
      "Ciudad\n",
      "Cali               127149\n",
      "Bogota              49722\n",
      "Cartagena           46180\n",
      "Medellin            34845\n",
      "Barranquilla         9342\n",
      "Sin Información        73\n",
      "Name: count, dtype: int64\n"
     ]
    }
   ],
   "source": [
    "print(sociodemograficos.Ciudad.value_counts())"
   ]
  },
  {
   "cell_type": "markdown",
   "metadata": {},
   "source": [
    "##### </br>**2.3. BD SINIESTROS**"
   ]
  },
  {
   "cell_type": "code",
   "execution_count": 23,
   "metadata": {},
   "outputs": [
    {
     "name": "stdout",
     "output_type": "stream",
     "text": [
      "<class 'pandas.core.frame.DataFrame'>\n",
      "RangeIndex: 3308480 entries, 0 to 3308479\n",
      "Data columns (total 7 columns):\n",
      " #   Column              Dtype  \n",
      "---  ------              -----  \n",
      " 0   Mes_Pago            int64  \n",
      " 1   Asegurado_Id        int64  \n",
      " 2   Reclamacion         object \n",
      " 3   Diagnostico_Codigo  object \n",
      " 4   Diagnostico_Desc    object \n",
      " 5   Eventos             int64  \n",
      " 6   Valor_Pagado        float64\n",
      "dtypes: float64(1), int64(3), object(3)\n",
      "memory usage: 176.7+ MB\n"
     ]
    },
    {
     "data": {
      "text/plain": [
       "None"
      ]
     },
     "metadata": {},
     "output_type": "display_data"
    },
    {
     "name": "stdout",
     "output_type": "stream",
     "text": [
      "\n",
      "Los registros se agrupan en los siguientes tipos:\n"
     ]
    },
    {
     "data": {
      "text/plain": [
       "int64      3\n",
       "object     3\n",
       "float64    1\n",
       "Name: count, dtype: int64"
      ]
     },
     "execution_count": 23,
     "metadata": {},
     "output_type": "execute_result"
    }
   ],
   "source": [
    "display(siniestros.info())\n",
    "print('\\nLos registros se agrupan en los siguientes tipos:')\n",
    "siniestros.dtypes.value_counts()"
   ]
  },
  {
   "cell_type": "code",
   "execution_count": 24,
   "metadata": {},
   "outputs": [
    {
     "data": {
      "text/html": [
       "<div>\n",
       "<style scoped>\n",
       "    .dataframe tbody tr th:only-of-type {\n",
       "        vertical-align: middle;\n",
       "    }\n",
       "\n",
       "    .dataframe tbody tr th {\n",
       "        vertical-align: top;\n",
       "    }\n",
       "\n",
       "    .dataframe thead th {\n",
       "        text-align: right;\n",
       "    }\n",
       "</style>\n",
       "<table border=\"1\" class=\"dataframe\">\n",
       "  <thead>\n",
       "    <tr style=\"text-align: right;\">\n",
       "      <th></th>\n",
       "      <th>count</th>\n",
       "      <th>unique</th>\n",
       "      <th>top</th>\n",
       "      <th>freq</th>\n",
       "    </tr>\n",
       "  </thead>\n",
       "  <tbody>\n",
       "    <tr>\n",
       "      <th>Reclamacion</th>\n",
       "      <td>3308480</td>\n",
       "      <td>41</td>\n",
       "      <td>CONSULTA EXTERNA</td>\n",
       "      <td>1255793</td>\n",
       "    </tr>\n",
       "    <tr>\n",
       "      <th>Diagnostico_Codigo</th>\n",
       "      <td>3308480</td>\n",
       "      <td>5830</td>\n",
       "      <td>9</td>\n",
       "      <td>2740383</td>\n",
       "    </tr>\n",
       "    <tr>\n",
       "      <th>Diagnostico_Desc</th>\n",
       "      <td>3308480</td>\n",
       "      <td>5751</td>\n",
       "      <td>DIAGNÃSTICO PENDIENTE</td>\n",
       "      <td>2740851</td>\n",
       "    </tr>\n",
       "  </tbody>\n",
       "</table>\n",
       "</div>"
      ],
      "text/plain": [
       "                      count unique                     top     freq\n",
       "Reclamacion         3308480     41        CONSULTA EXTERNA  1255793\n",
       "Diagnostico_Codigo  3308480   5830                       9  2740383\n",
       "Diagnostico_Desc    3308480   5751  DIAGNÃSTICO PENDIENTE  2740851"
      ]
     },
     "execution_count": 24,
     "metadata": {},
     "output_type": "execute_result"
    }
   ],
   "source": [
    "siniestros.select_dtypes(include='object').describe().T"
   ]
  },
  {
   "cell_type": "code",
   "execution_count": 25,
   "metadata": {},
   "outputs": [
    {
     "data": {
      "text/html": [
       "<div>\n",
       "<style scoped>\n",
       "    .dataframe tbody tr th:only-of-type {\n",
       "        vertical-align: middle;\n",
       "    }\n",
       "\n",
       "    .dataframe tbody tr th {\n",
       "        vertical-align: top;\n",
       "    }\n",
       "\n",
       "    .dataframe thead th {\n",
       "        text-align: right;\n",
       "    }\n",
       "</style>\n",
       "<table border=\"1\" class=\"dataframe\">\n",
       "  <thead>\n",
       "    <tr style=\"text-align: right;\">\n",
       "      <th></th>\n",
       "      <th>count</th>\n",
       "      <th>mean</th>\n",
       "      <th>std</th>\n",
       "      <th>min</th>\n",
       "      <th>25%</th>\n",
       "      <th>50%</th>\n",
       "      <th>75%</th>\n",
       "      <th>max</th>\n",
       "    </tr>\n",
       "  </thead>\n",
       "  <tbody>\n",
       "    <tr>\n",
       "      <th>Mes_Pago</th>\n",
       "      <td>3308480.0</td>\n",
       "      <td>2.018590e+05</td>\n",
       "      <td>5.005354e+01</td>\n",
       "      <td>201801.0</td>\n",
       "      <td>2.018070e+05</td>\n",
       "      <td>2.019010e+05</td>\n",
       "      <td>2.019070e+05</td>\n",
       "      <td>2.019120e+05</td>\n",
       "    </tr>\n",
       "    <tr>\n",
       "      <th>Asegurado_Id</th>\n",
       "      <td>3308480.0</td>\n",
       "      <td>2.061855e+07</td>\n",
       "      <td>1.594818e+07</td>\n",
       "      <td>738284.0</td>\n",
       "      <td>5.756561e+06</td>\n",
       "      <td>1.660835e+07</td>\n",
       "      <td>3.379461e+07</td>\n",
       "      <td>5.858458e+07</td>\n",
       "    </tr>\n",
       "    <tr>\n",
       "      <th>Eventos</th>\n",
       "      <td>3308480.0</td>\n",
       "      <td>2.213185e+00</td>\n",
       "      <td>3.517578e+00</td>\n",
       "      <td>0.0</td>\n",
       "      <td>1.000000e+00</td>\n",
       "      <td>1.000000e+00</td>\n",
       "      <td>2.000000e+00</td>\n",
       "      <td>2.790000e+02</td>\n",
       "    </tr>\n",
       "    <tr>\n",
       "      <th>Valor_Pagado</th>\n",
       "      <td>3308480.0</td>\n",
       "      <td>8.028421e+05</td>\n",
       "      <td>2.994635e+06</td>\n",
       "      <td>102000.0</td>\n",
       "      <td>4.346523e+05</td>\n",
       "      <td>4.842149e+05</td>\n",
       "      <td>6.304715e+05</td>\n",
       "      <td>1.977986e+09</td>\n",
       "    </tr>\n",
       "  </tbody>\n",
       "</table>\n",
       "</div>"
      ],
      "text/plain": [
       "                  count          mean           std       min           25%  \\\n",
       "Mes_Pago      3308480.0  2.018590e+05  5.005354e+01  201801.0  2.018070e+05   \n",
       "Asegurado_Id  3308480.0  2.061855e+07  1.594818e+07  738284.0  5.756561e+06   \n",
       "Eventos       3308480.0  2.213185e+00  3.517578e+00       0.0  1.000000e+00   \n",
       "Valor_Pagado  3308480.0  8.028421e+05  2.994635e+06  102000.0  4.346523e+05   \n",
       "\n",
       "                       50%           75%           max  \n",
       "Mes_Pago      2.019010e+05  2.019070e+05  2.019120e+05  \n",
       "Asegurado_Id  1.660835e+07  3.379461e+07  5.858458e+07  \n",
       "Eventos       1.000000e+00  2.000000e+00  2.790000e+02  \n",
       "Valor_Pagado  4.842149e+05  6.304715e+05  1.977986e+09  "
      ]
     },
     "execution_count": 25,
     "metadata": {},
     "output_type": "execute_result"
    }
   ],
   "source": [
    "siniestros.select_dtypes(exclude='object').describe().T"
   ]
  },
  {
   "cell_type": "code",
   "execution_count": 26,
   "metadata": {},
   "outputs": [
    {
     "name": "stdout",
     "output_type": "stream",
     "text": [
      "La base contiene registros de 237167 usuarios\n"
     ]
    }
   ],
   "source": [
    "print(f\"La base contiene registros de {siniestros.Asegurado_Id.nunique()} usuarios\")"
   ]
  },
  {
   "cell_type": "code",
   "execution_count": 27,
   "metadata": {},
   "outputs": [
    {
     "name": "stdout",
     "output_type": "stream",
     "text": [
      "La base cuenta con 41 tipos de reclamación\n"
     ]
    }
   ],
   "source": [
    "print(f\"La base cuenta con {siniestros.Reclamacion.nunique()} tipos de reclamación\")"
   ]
  },
  {
   "cell_type": "code",
   "execution_count": 28,
   "metadata": {},
   "outputs": [
    {
     "name": "stdout",
     "output_type": "stream",
     "text": [
      "La base cuenta con 5830 tipos de diagnostico\n"
     ]
    }
   ],
   "source": [
    "print(f\"La base cuenta con {siniestros.Diagnostico_Codigo.nunique()} tipos de diagnostico\")"
   ]
  },
  {
   "cell_type": "markdown",
   "metadata": {},
   "source": [
    "#### </br> **3. EXPLORACIÓN DE ATRIBUTOS, PATRONES Y TENDENCIAS**\n"
   ]
  },
  {
   "cell_type": "markdown",
   "metadata": {},
   "source": [
    "##### **3.1. BD EXPUESTOS**"
   ]
  },
  {
   "cell_type": "code",
   "execution_count": 35,
   "metadata": {},
   "outputs": [
    {
     "data": {
      "image/png": "[encoded data removed]",
      "text/plain": [
       "<Figure size 2000x400 with 4 Axes>"
      ]
     },
     "metadata": {},
     "output_type": "display_data"
    }
   ],
   "source": [
    "palette = 'Set1'\n",
    "sns.set_theme(style=\"whitegrid\", palette=palette)\n",
    "\n",
    "\n",
    "fig, axs = plt.subplots(ncols=4, figsize=(20, 4))\n",
    "\n",
    "sns.histplot(x='Asegurado_Id', data=sociodemograficos, kde=True, ax=axs[0])\n",
    "sns.histplot(x='Mujer', data=sociodemograficos, kde=True, ax=axs[1])\n",
    "sns.countplot(x='Ciudad', data=sociodemograficos, ax=axs[2], color=sns.color_palette(palette)[0], alpha=.55)\n",
    "sns.histplot(x='CANCER', data=sociodemograficos, kde=True, ax=axs[3])\n",
    "fig.suptitle('Histograma de variables numéricas ', y=1.00)\n",
    "\n",
    "for ax in axs: ax.set(ylabel=None)\n",
    "axs[0].set(ylabel='Número de observaciones ')\n",
    "axs[0].set(xlabel=None, title='Usuarios')\n",
    "axs[1].set(xlabel=None, title='Genero')\n",
    "axs[2].set(xlabel=None, title='Ciudad')\n",
    "axs[3].set(xlabel=None, title='Padecientes de cancer');"
   ]
  },
  {
   "cell_type": "markdown",
   "metadata": {},
   "source": [
    "##### </br>**3.2. BD SOCIODEMOGRAFICOS**"
   ]
  },
  {
   "cell_type": "code",
   "execution_count": null,
   "metadata": {},
   "outputs": [],
   "source": []
  },
  {
   "cell_type": "markdown",
   "metadata": {},
   "source": [
    "##### </br>**3.3. BD SINIESTROS**"
   ]
  },
  {
   "cell_type": "code",
   "execution_count": null,
   "metadata": {},
   "outputs": [],
   "source": []
  }
 ],
 "metadata": {
  "kernelspec": {
   "display_name": "Python 3",
   "language": "python",
   "name": "python3"
  },
  "language_info": {
   "codemirror_mode": {
    "name": "ipython",
    "version": 3
   },
   "file_extension": ".py",
   "mimetype": "text/x-python",
   "name": "python",
   "nbconvert_exporter": "python",
   "pygments_lexer": "ipython3",
   "version": "3.11.5"
  }
 },
 "nbformat": 4,
 "nbformat_minor": 2
}
